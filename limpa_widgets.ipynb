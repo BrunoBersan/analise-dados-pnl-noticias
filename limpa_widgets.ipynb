{
 "cells": [
  {
   "cell_type": "code",
   "execution_count": null,
   "id": "5ab01e96",
   "metadata": {},
   "outputs": [],
   "source": [
    "\n",
    "import nbformat\n",
    "\n",
    "# Caminho do notebook no Google Drive\n",
    "notebook_path = \"Questionário_Projeto_de_Disciplina_de_Text_Mining.ipynb\"\n",
    "\n",
    "# Carregar o notebook\n",
    "with open(notebook_path, 'r') as f:\n",
    "    notebook = nbformat.read(f, as_version=4)\n",
    "\n",
    "# Remover apenas os metadados problemáticos relacionados aos widgets\n",
    "if 'metadata' in notebook:\n",
    "    if 'widgets' in notebook['metadata']:\n",
    "        del notebook['metadata']['widgets']\n",
    "\n",
    "# Salvar o notebook sem os metadados problemáticos, mas mantendo as saídas\n",
    "with open(notebook_path, 'w') as f:\n",
    "    nbformat.write(notebook, f)\n"
   ]
  }
 ],
 "metadata": {
  "kernelspec": {
   "display_name": "Python 3",
   "language": "python",
   "name": "python3"
  },
  "language_info": {
   "codemirror_mode": {
    "name": "ipython",
    "version": 3
   },
   "file_extension": ".py",
   "mimetype": "text/x-python",
   "name": "python",
   "nbconvert_exporter": "python",
   "pygments_lexer": "ipython3",
   "version": "3.11.11"
  }
 },
 "nbformat": 4,
 "nbformat_minor": 5
}
